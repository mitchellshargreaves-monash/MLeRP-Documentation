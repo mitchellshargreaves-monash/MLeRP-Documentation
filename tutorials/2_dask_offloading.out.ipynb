{
  "cells": [
    {
      "cell_type": "markdown",
      "metadata": {},
      "source": [
        "# Dask Offloading\n",
        "\n",
        "### Testing with a `LocalCluster`\n",
        "\n",
        "Once you’ve written your function and are ready to move things over to .\n",
        "Working with Dask workers introduces another layer of complexity where\n",
        "things can go wrong, which make Dask LocalClusters the easiest way to\n",
        "prepare your code for offloading. This will mean that code will execute\n",
        "in the notebook session, just like running your function straight,\n",
        "allowing you to view print statements and debug errors normally rather\n",
        "than dealing with remote code execusion before we’re ready. Once you’re\n",
        "satisfied with your code you can switch over to a SLURMCluster to\n",
        "accelerate with GPU."
      ],
      "id": "bfac88e7-13c9-43d0-aad5-b385ee4c8c9f"
    },
    {
      "cell_type": "code",
      "execution_count": 1,
      "metadata": {},
      "outputs": [],
      "source": [
        "from distributed import Client, LocalCluster\n",
        "\n",
        "cluster = LocalCluster()\n",
        "client = Client(cluster)"
      ],
      "id": "b8cd9968-4dc5-4ee5-b631-2009c29101e9"
    },
    {
      "cell_type": "markdown",
      "metadata": {},
      "source": [
        "We can submit our function to the cluster with the `client.submit`\n",
        "method. This will return a future which can be unpacked with its result\n",
        "using `future.result()`. We can see the outputs of print statements\n",
        "while we’re using a `LocalCluster`. Print statements will not be visible\n",
        "when executing remotely with `SLURMCluster`. Similarly, the full stack\n",
        "trace is still visible when an error or assertion is raised within the\n",
        "function."
      ],
      "id": "4208f47b-1312-4e06-aed9-2623ff2f3a69"
    },
    {
      "cell_type": "code",
      "execution_count": 2,
      "metadata": {},
      "outputs": [],
      "source": [
        "def client_test(input1, input2, error=False, test=False):\n",
        "    # Force an error\n",
        "    if error:\n",
        "        assert 0 == 1\n",
        "    \n",
        "    # Stop after one batch when testing        \n",
        "    if test: \n",
        "        print(\"When running in a local cluster you can see print statements!\")\n",
        "\n",
        "    return input1, input2"
      ],
      "id": "dbd1e1ad-378e-4f11-9380-f2549aaeb90a"
    },
    {
      "cell_type": "code",
      "execution_count": 3,
      "metadata": {},
      "outputs": [
        {
          "output_type": "stream",
          "name": "stdout",
          "text": [
            "When running in a local cluster you can see print statements!"
          ]
        },
        {
          "output_type": "display_data",
          "metadata": {},
          "data": {
            "text/plain": [
              "('input1', 'input2')"
            ]
          }
        }
      ],
      "source": [
        "future = client.submit(client_test, \"input1\", \"input2\", test=True)\n",
        "future.result()"
      ],
      "id": "89950c46-3d16-40ef-a4b7-34c622f60823"
    },
    {
      "cell_type": "code",
      "execution_count": 4,
      "metadata": {},
      "outputs": [
        {
          "output_type": "stream",
          "name": "stderr",
          "text": [
            "2024-05-31 06:32:22,017 - distributed.worker - WARNING - Compute Failed\n",
            "Key:       client_test-821dd3f7995546bf5d9280be38a9afd3\n",
            "Function:  client_test\n",
            "args:      ('input1', 'input2')\n",
            "kwargs:    {'error': True}\n",
            "Exception: 'AssertionError()'\n"
          ]
        }
      ],
      "source": [
        "future = client.submit(client_test, \"input1\", \"input2\", error=True)\n",
        "future.result()"
      ],
      "id": "896b8605-a128-4234-8af2-a660f0153b50"
    },
    {
      "cell_type": "code",
      "execution_count": 5,
      "metadata": {},
      "outputs": [],
      "source": [
        "client.shutdown()"
      ],
      "id": "028c858e-45a6-4908-bbb0-d2a3ca6aecc8"
    },
    {
      "cell_type": "markdown",
      "metadata": {},
      "source": [
        "### Running on a `SLURMCluster`\n",
        "\n",
        "We can pass in extra SLURM requirements in job_extra_directives to\n",
        "request a GPU for our jobs. To read more about configuring the\n",
        "`SLURMCluster` to interact with the SLURM queue, go to Dask’s [jobqueue\n",
        "documentation](https://jobqueue.dask.org/en/latest/generated/dask_jobqueue.SLURMCluster.html?highlight=slurmcluster)."
      ],
      "id": "df3c840d-47ea-47c3-94ec-a0334a2311b5"
    },
    {
      "cell_type": "code",
      "execution_count": 6,
      "metadata": {},
      "outputs": [],
      "source": [
        "from dask_jobqueue import SLURMCluster\n",
        "from distributed import Client\n",
        "cluster = SLURMCluster(\n",
        "    memory=\"128g\", processes=1, cores=16, job_extra_directives=[\"--gres=gpu:1\", \"--partition=BigCats\"]\n",
        ")\n",
        "\n",
        "cluster.scale(1)\n",
        "client = Client(cluster)"
      ],
      "id": "ceb5f0e0-a5d7-4a54-8a5e-c5b0841b93f9"
    },
    {
      "cell_type": "markdown",
      "metadata": {},
      "source": [
        "Since this code is executing remotely we won’t see our print statements"
      ],
      "id": "dd608997-698e-4f16-a466-b38298c7e9d8"
    },
    {
      "cell_type": "code",
      "execution_count": 7,
      "metadata": {},
      "outputs": [
        {
          "output_type": "display_data",
          "metadata": {},
          "data": {
            "text/plain": [
              "('input1', 'input2')"
            ]
          }
        }
      ],
      "source": [
        "client.submit(client_test, \"input1\", \"input2\", test=True).result()"
      ],
      "id": "d358bbc0-dcdf-455d-b351-b55984a39c8a"
    },
    {
      "cell_type": "markdown",
      "metadata": {},
      "source": [
        "Dask will raise any errors that the process triggers locally, even when\n",
        "executing remotely - but you may not get the full stack trace"
      ],
      "id": "b265df4f-42a6-4e8d-804e-9a44343f91b9"
    },
    {
      "cell_type": "code",
      "execution_count": 8,
      "metadata": {},
      "outputs": [],
      "source": [
        "client.submit(client_test, \"input1\", \"input2\", error=True).result()"
      ],
      "id": "e2abaac6-aa98-4eea-805b-219b4704eae1"
    },
    {
      "cell_type": "markdown",
      "metadata": {},
      "source": [
        "If you’re working with any objects that are particularly memory\n",
        "intensive, you can consider using the `client.scatter` method to scatter\n",
        "large objects out to our workers ahead of time for more efficient\n",
        "execution."
      ],
      "id": "0c7543aa-59f7-406c-96f6-7bf89cc952b8"
    },
    {
      "cell_type": "code",
      "execution_count": 9,
      "metadata": {},
      "outputs": [
        {
          "output_type": "display_data",
          "metadata": {},
          "data": {
            "text/plain": [
              "(\"Let's pretend that this string is actually a really big object like your dataset\",\n",
              " 'input2')"
            ]
          }
        }
      ],
      "source": [
        "large_object = \"Let's pretend that this string is actually a really big object like your dataset\"\n",
        "input1_future = client.scatter(large_object)\n",
        "client.submit(client_test, input1_future, \"input2\").result()"
      ],
      "id": "36d1e171-1509-4c4f-ba3e-d9ebb7192285"
    },
    {
      "cell_type": "code",
      "execution_count": 10,
      "metadata": {},
      "outputs": [
        {
          "output_type": "stream",
          "name": "stderr",
          "text": [
            "2024-05-31 06:32:32,584 - distributed.scheduler - ERROR - Removing worker 'tcp://192.168.0.208:38481' caused the cluster to lose scattered data, which can't be recovered: {'str-aed0f69a5b2b8dbc59a28f905628b181'} (stimulus_id='handle-worker-cleanup-1717137152.584407')"
          ]
        }
      ],
      "source": [
        "client.shutdown()"
      ],
      "id": "c999a265-e6e6-486f-8faf-5807b63d4910"
    },
    {
      "cell_type": "markdown",
      "metadata": {},
      "source": [
        "If needed we can be more specific about the specific GPU type and QoS we\n",
        "need if we have more complex requirements."
      ],
      "id": "500eb71b-90ca-4f9e-adc9-50cfcb49bbb3"
    },
    {
      "cell_type": "code",
      "execution_count": 11,
      "metadata": {},
      "outputs": [],
      "source": [
        "cluster = SLURMCluster(\n",
        "    memory=\"128g\", processes=1, cores=16, job_extra_directives=[\"--gres=gpu:3g.20gb:1\", \"--qos=lion\", \"--partition=BigCats\"]\n",
        ")\n",
        "\n",
        "cluster.scale(1)\n",
        "client = Client(cluster)"
      ],
      "id": "4e7ae9bd-82fc-4686-aac6-ec45288ef614"
    },
    {
      "cell_type": "code",
      "execution_count": 12,
      "metadata": {},
      "outputs": [
        {
          "output_type": "display_data",
          "metadata": {},
          "data": {
            "text/plain": [
              "('input1', 'input2')"
            ]
          }
        }
      ],
      "source": [
        "client.submit(client_test, \"input1\", \"input2\", test=True).result()"
      ],
      "id": "a217b99f-7d75-44cf-916d-d8ca58fbf0cd"
    }
  ],
  "nbformat": 4,
  "nbformat_minor": 5,
  "metadata": {
    "kernelspec": {
      "name": "python3",
      "display_name": "Python 3 (ipykernel)",
      "language": "python"
    },
    "language_info": {
      "name": "python",
      "codemirror_mode": {
        "name": "ipython",
        "version": "3"
      },
      "file_extension": ".py",
      "mimetype": "text/x-python",
      "nbconvert_exporter": "python",
      "pygments_lexer": "ipython3",
      "version": "3.10.8"
    },
    "vscode": {
      "interpreter": {
        "hash": "db096b8404a4f1f3e1df0cc89f001e138448327417ef835d10f5a76aa612f160"
      }
    }
  }
}