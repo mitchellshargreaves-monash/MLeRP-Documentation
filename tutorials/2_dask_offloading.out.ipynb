{
  "cells": [
    {
      "cell_type": "markdown",
      "metadata": {},
      "source": [
        "# Dask Offloading\n",
        "\n",
        "### Testing with a `LocalCluster`\n",
        "\n",
        "Once you’ve written your function and are ready to move things over to .\n",
        "Working with Dask workers introduces another layer of complexity where\n",
        "things can go wrong, which make Dask LocalClusters the easiest way to\n",
        "prepare your code for offloading. This will mean that code will execute\n",
        "in the notebook session, just like running your function straight,\n",
        "allowing you to view print statements and debug errors normally rather\n",
        "than dealing with remote code execusion before we’re ready. Once you’re\n",
        "satisfied with your code you can switch over to a SLURMCluster to\n",
        "accelerate with GPU."
      ],
      "id": "67a45474-bc44-4805-8a78-5c4265cf8bc3"
    },
    {
      "cell_type": "code",
      "execution_count": 1,
      "metadata": {},
      "outputs": [],
      "source": [
        "from distributed import Client, LocalCluster\n",
        "\n",
        "cluster = LocalCluster()\n",
        "client = Client(cluster)"
      ],
      "id": "46fa6301-23c4-432c-9242-4476a5de28f6"
    },
    {
      "cell_type": "markdown",
      "metadata": {},
      "source": [
        "We can submit our function to the cluster with the `client.submit`\n",
        "method. This will return a future which can be unpacked with its result\n",
        "using `future.result()`. We can see the outputs of print statements\n",
        "while we’re using a `LocalCluster`. Print statements will not be visible\n",
        "when executing remotely with `SLURMCluster`. Similarly, the full stack\n",
        "trace is still visible when an error or assertion is raised within the\n",
        "function."
      ],
      "id": "e7eff656-ef40-4aad-8d3d-f27dc71c50d3"
    },
    {
      "cell_type": "code",
      "execution_count": 2,
      "metadata": {},
      "outputs": [],
      "source": [
        "def client_test(input1, input2, error=False, test=False):\n",
        "    # Force an error\n",
        "    if error:\n",
        "        assert 0 == 1\n",
        "    \n",
        "    # Stop after one batch when testing        \n",
        "    if test: \n",
        "        print(\"When running in a local cluster you can see print statements!\")\n",
        "\n",
        "    return input1, input2"
      ],
      "id": "961ed37f-6e50-437f-ade6-f4ea90f6ce9e"
    },
    {
      "cell_type": "code",
      "execution_count": 3,
      "metadata": {},
      "outputs": [
        {
          "output_type": "stream",
          "name": "stdout",
          "text": [
            "When running in a local cluster you can see print statements!"
          ]
        },
        {
          "output_type": "display_data",
          "metadata": {},
          "data": {
            "text/plain": [
              "('input1', 'input2')"
            ]
          }
        }
      ],
      "source": [
        "future = client.submit(client_test, \"input1\", \"input2\", test=True)\n",
        "future.result()"
      ],
      "id": "3c135663-88db-44d1-80b6-cf0e383c4705"
    },
    {
      "cell_type": "code",
      "execution_count": 4,
      "metadata": {},
      "outputs": [
        {
          "output_type": "stream",
          "name": "stderr",
          "text": [
            "2024-05-31 06:32:22,017 - distributed.worker - WARNING - Compute Failed\n",
            "Key:       client_test-821dd3f7995546bf5d9280be38a9afd3\n",
            "Function:  client_test\n",
            "args:      ('input1', 'input2')\n",
            "kwargs:    {'error': True}\n",
            "Exception: 'AssertionError()'\n"
          ]
        }
      ],
      "source": [
        "future = client.submit(client_test, \"input1\", \"input2\", error=True)\n",
        "future.result()"
      ],
      "id": "742cc85a-2e9c-48dc-85bb-fbf75a19c32c"
    },
    {
      "cell_type": "code",
      "execution_count": 5,
      "metadata": {},
      "outputs": [],
      "source": [
        "client.shutdown()"
      ],
      "id": "7836e441-39a6-489d-80b9-598b35cd0bf2"
    },
    {
      "cell_type": "markdown",
      "metadata": {},
      "source": [
        "### Running on a `SLURMCluster`\n",
        "\n",
        "We can pass in extra SLURM requirements in job_extra_directives to\n",
        "request a GPU for our jobs. To read more about configuring the\n",
        "`SLURMCluster` to interact with the SLURM queue, go to Dask’s [jobqueue\n",
        "documentation](https://jobqueue.dask.org/en/latest/generated/dask_jobqueue.SLURMCluster.html?highlight=slurmcluster)."
      ],
      "id": "2965abac-a317-47fe-82ed-624b62f8697c"
    },
    {
      "cell_type": "code",
      "execution_count": 6,
      "metadata": {},
      "outputs": [],
      "source": [
        "from dask_jobqueue import SLURMCluster\n",
        "from distributed import Client\n",
        "cluster = SLURMCluster(\n",
        "    memory=\"128g\", processes=1, cores=16, job_extra_directives=[\"--gres=gpu:1\", \"--partition=BigCats\"]\n",
        ")\n",
        "\n",
        "cluster.scale(1)\n",
        "client = Client(cluster)"
      ],
      "id": "d3cddff7-c459-4e49-aa1d-7e1ffea3c503"
    },
    {
      "cell_type": "markdown",
      "metadata": {},
      "source": [
        "Since this code is executing remotely we won’t see our print statements"
      ],
      "id": "45750735-1680-43f9-907b-a2896a341870"
    },
    {
      "cell_type": "code",
      "execution_count": 7,
      "metadata": {},
      "outputs": [
        {
          "output_type": "display_data",
          "metadata": {},
          "data": {
            "text/plain": [
              "('input1', 'input2')"
            ]
          }
        }
      ],
      "source": [
        "client.submit(client_test, \"input1\", \"input2\", test=True).result()"
      ],
      "id": "860e1de4-9f06-46c3-a5c8-cea54f499f73"
    },
    {
      "cell_type": "markdown",
      "metadata": {},
      "source": [
        "Dask will raise any errors that the process triggers locally, even when\n",
        "executing remotely - but you may not get the full stack trace"
      ],
      "id": "de66622f-56ea-4444-853f-3d3a648a7c06"
    },
    {
      "cell_type": "code",
      "execution_count": 8,
      "metadata": {},
      "outputs": [],
      "source": [
        "client.submit(client_test, \"input1\", \"input2\", error=True).result()"
      ],
      "id": "4e704955-e4c9-4536-aa69-d32330b3afff"
    },
    {
      "cell_type": "markdown",
      "metadata": {},
      "source": [
        "If you’re working with any objects that are particularly memory\n",
        "intensive, you can consider using the `client.scatter` method to scatter\n",
        "large objects out to our workers ahead of time for more efficient\n",
        "execution."
      ],
      "id": "c9a5a4dd-06f1-4807-8544-11fd4d231967"
    },
    {
      "cell_type": "code",
      "execution_count": 9,
      "metadata": {},
      "outputs": [
        {
          "output_type": "display_data",
          "metadata": {},
          "data": {
            "text/plain": [
              "(\"Let's pretend that this string is actually a really big object like your dataset\",\n",
              " 'input2')"
            ]
          }
        }
      ],
      "source": [
        "large_object = \"Let's pretend that this string is actually a really big object like your dataset\"\n",
        "input1_future = client.scatter(large_object)\n",
        "client.submit(client_test, input1_future, \"input2\").result()"
      ],
      "id": "5b16becb-dfc2-41e7-9913-b9994fb37b08"
    },
    {
      "cell_type": "code",
      "execution_count": 10,
      "metadata": {},
      "outputs": [
        {
          "output_type": "stream",
          "name": "stderr",
          "text": [
            "2024-05-31 06:32:32,584 - distributed.scheduler - ERROR - Removing worker 'tcp://192.168.0.208:38481' caused the cluster to lose scattered data, which can't be recovered: {'str-aed0f69a5b2b8dbc59a28f905628b181'} (stimulus_id='handle-worker-cleanup-1717137152.584407')"
          ]
        }
      ],
      "source": [
        "client.shutdown()"
      ],
      "id": "b243779e-0260-42cc-8a65-27bb9b40efc1"
    },
    {
      "cell_type": "markdown",
      "metadata": {},
      "source": [
        "If needed we can be more specific about the specific GPU type and QoS we\n",
        "need if we have more complex requirements."
      ],
      "id": "d85e00c3-00ec-4abe-bec2-b802d0e22e88"
    },
    {
      "cell_type": "code",
      "execution_count": 11,
      "metadata": {},
      "outputs": [],
      "source": [
        "cluster = SLURMCluster(\n",
        "    memory=\"128g\", processes=1, cores=16, job_extra_directives=[\"--gres=gpu:3g.20gb:1\", \"--qos=lion\", \"--partition=BigCats\"]\n",
        ")\n",
        "\n",
        "cluster.scale(1)\n",
        "client = Client(cluster)"
      ],
      "id": "e403ecb0-c7e4-432a-9a00-b44a54eeede4"
    },
    {
      "cell_type": "code",
      "execution_count": 12,
      "metadata": {},
      "outputs": [
        {
          "output_type": "display_data",
          "metadata": {},
          "data": {
            "text/plain": [
              "('input1', 'input2')"
            ]
          }
        }
      ],
      "source": [
        "client.submit(client_test, \"input1\", \"input2\", test=True).result()"
      ],
      "id": "1d66f0b2-16cd-4008-9146-61c38a2e9697"
    }
  ],
  "nbformat": 4,
  "nbformat_minor": 5,
  "metadata": {
    "kernelspec": {
      "name": "python3",
      "display_name": "Python 3 (ipykernel)",
      "language": "python"
    },
    "language_info": {
      "name": "python",
      "codemirror_mode": {
        "name": "ipython",
        "version": "3"
      },
      "file_extension": ".py",
      "mimetype": "text/x-python",
      "nbconvert_exporter": "python",
      "pygments_lexer": "ipython3",
      "version": "3.10.8"
    },
    "vscode": {
      "interpreter": {
        "hash": "db096b8404a4f1f3e1df0cc89f001e138448327417ef835d10f5a76aa612f160"
      }
    }
  }
}