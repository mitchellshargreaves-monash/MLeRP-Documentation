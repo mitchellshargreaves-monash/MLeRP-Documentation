{
  "cells": [
    {
      "cell_type": "markdown",
      "metadata": {},
      "source": [
        "# SubmitIt Offloading\n",
        "\n",
        "SubmitIt is a lower level library than Dask which you can also use to\n",
        "offload parts of your notebook to the SLURM queue. Rather than managing\n",
        "a cluster, you will instead directly be submitting python functions to\n",
        "the SLURM queue giving you more control. For more information, have a\n",
        "read of their [PyPi page](https://pypi.org/project/submitit/)."
      ],
      "id": "28f721cc-9479-4641-9f9e-f32feabb072b"
    },
    {
      "cell_type": "code",
      "execution_count": 1,
      "metadata": {},
      "outputs": [],
      "source": [
        "import submitit\n",
        "\n",
        "# Define where we'd like submitit to place our logs\n",
        "executor = submitit.AutoExecutor(folder='~/submitit_logs')\n",
        "\n",
        "# Define the parameters of our slurm job\n",
        "# Just like Dasks' job_extra_directives, additional_parameters allows us to specify things that submitit doesn't support directly\n",
        "executor.update_parameters(timeout_min=30, mem_gb=128, cpus_per_task=16, slurm_partition=\"BigCats\", slurm_additional_parameters={\"gres\": \"gpu:1\"})"
      ],
      "id": "53a731b5-e91d-462d-9d8b-810c50ce1499"
    },
    {
      "cell_type": "markdown",
      "metadata": {},
      "source": [
        "We can submit our function to the cluster with the `executor.submit`\n",
        "method. This will return a future which can be unpacked with its result\n",
        "using `future.result()` just like when we were working with Dask.\n",
        "Because we are offloading to the SLURM queue print statements will not\n",
        "be visible, just like with Dask `SLURMClusters`. However, the full stack\n",
        "trace is still visible when an error or assertion is raised within the\n",
        "function."
      ],
      "id": "ed79f47f-e630-46fd-b607-7785abdc8291"
    },
    {
      "cell_type": "code",
      "execution_count": 2,
      "metadata": {},
      "outputs": [],
      "source": [
        "def client_test(input1, input2, error=False, test=False):\n",
        "    # Force an error\n",
        "    if error:\n",
        "        assert 0 == 1\n",
        "    \n",
        "    # Stop after one batch when testing        \n",
        "    if test: \n",
        "        print(\"When running in a local cluster you can see print statements!\")\n",
        "\n",
        "    return input1, input2"
      ],
      "id": "ba0170c6-dac7-49c6-849b-d18441f5e71f"
    },
    {
      "cell_type": "code",
      "execution_count": 3,
      "metadata": {},
      "outputs": [
        {
          "output_type": "display_data",
          "metadata": {},
          "data": {
            "text/plain": [
              "('input1', 'input2')"
            ]
          }
        }
      ],
      "source": [
        "future = executor.submit(client_test, \"input1\", \"input2\", test=True)\n",
        "future.result()"
      ],
      "id": "eb74f44d-1f3d-40e5-8ddf-0875e6eebc25"
    },
    {
      "cell_type": "code",
      "execution_count": 4,
      "metadata": {},
      "outputs": [],
      "source": [
        "future = executor.submit(client_test, \"input1\", \"input2\", error=True)\n",
        "future.result()"
      ],
      "id": "90154f4d-011a-4259-bf49-358b68348fda"
    },
    {
      "cell_type": "markdown",
      "metadata": {},
      "source": [
        "Note that since we are interacting directly with the queue, we don’t\n",
        "need to clean up and shut down our cluster when using SubmitIt.\n",
        "\n",
        "If needed we can be more specific about the specific GPU type and QoS we\n",
        "need if we have more complex requirements."
      ],
      "id": "068ca580-e978-4745-982a-5630a224a57c"
    },
    {
      "cell_type": "code",
      "execution_count": 5,
      "metadata": {},
      "outputs": [
        {
          "output_type": "stream",
          "name": "stderr",
          "text": [
            "/apps/mambaforge/envs/dsks_2024.06/lib/python3.10/site-packages/submitit/auto/auto.py:23: UserWarning: Setting 'additional_parameters' is deprecated. Use 'slurm_additional_parameters' instead.\n",
            "  warnings.warn(f\"Setting '{arg}' is deprecated. Use '{new_arg}' instead.\")"
          ]
        },
        {
          "output_type": "display_data",
          "metadata": {},
          "data": {
            "text/plain": [
              "('input1', 'input2')"
            ]
          }
        }
      ],
      "source": [
        "executor.update_parameters(timeout_min=30, mem_gb=128, cpus_per_task=16, slurm_partition=\"BigCats\", slurm_additional_parameters={\"gres\": \"gpu:3g.20gb:1\", \"partition\": \"BigCats\"})\n",
        "executor.submit(client_test, \"input1\", \"input2\", test=True).result()"
      ],
      "id": "5d04029f-2422-4cf5-97a6-ee18dc0587a2"
    },
    {
      "cell_type": "markdown",
      "metadata": {},
      "source": [
        "## Comparison with Dask\n",
        "\n",
        "As you can see, we’ve implemented the same use case with both Dask and\n",
        "SubmitIt. Which begs the question - which should you use for your\n",
        "research?\n",
        "\n",
        "Both packages have pros and cons, but on the whole, Dask is much better\n",
        "suited towards tasks which can benefit from being broken into many small\n",
        "tasks - like when preprocessing your data. SubmitIt on the other hand is\n",
        "much better suited for use cases where you are looking to offload one\n",
        "larger job at a time, like when you are training.\n",
        "\n",
        "Of the two, Dask is the more mature package with more flexibility and\n",
        "complete documentation - but if you are looking for a simple offloading\n",
        "package it is often far more complexity than you need."
      ],
      "id": "77310b66-2dd3-42e5-9a19-5e7f31fc95cf"
    }
  ],
  "nbformat": 4,
  "nbformat_minor": 5,
  "metadata": {
    "kernelspec": {
      "name": "python3",
      "display_name": "Python 3 (ipykernel)",
      "language": "python"
    },
    "language_info": {
      "name": "python",
      "codemirror_mode": {
        "name": "ipython",
        "version": "3"
      },
      "file_extension": ".py",
      "mimetype": "text/x-python",
      "nbconvert_exporter": "python",
      "pygments_lexer": "ipython3",
      "version": "3.10.14"
    },
    "vscode": {
      "interpreter": {
        "hash": "db096b8404a4f1f3e1df0cc89f001e138448327417ef835d10f5a76aa612f160"
      }
    }
  }
}