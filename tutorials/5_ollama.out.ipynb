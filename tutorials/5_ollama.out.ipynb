{
  "cells": [
    {
      "cell_type": "markdown",
      "metadata": {},
      "source": [
        "# Ollama Python\n",
        "\n",
        "Ollama offers a way to interact with open source large language models\n",
        "interactively. The easiest way to do that is with the Ollama Chatbot app\n",
        "in Strudel2, but if you need more power, you can use the Ollama python\n",
        "library.\n",
        "\n",
        "In this example we are going to use Ollama to summarise Wikipedia\n",
        "articles from the Wikitext 2 dataset.\n",
        "\n",
        "## Preparing the dataset\n",
        "\n",
        "The Wikitext 2 dataset is easily available through the Hugging Face\n",
        "library ‘datasets’, but rather than splitting the dataset by article\n",
        "like we need the data is split by paragraph. This means we’ll need to\n",
        "reprocess the dataset back into articles for our example."
      ],
      "id": "537ce8d8-bf40-409f-bb7c-83f44d0ebe7d"
    },
    {
      "cell_type": "code",
      "execution_count": 38,
      "metadata": {},
      "outputs": [
        {
          "output_type": "display_data",
          "metadata": {},
          "data": {
            "text/plain": [
              "['',\n",
              " ' = Robert Boulter = \\n',\n",
              " '',\n",
              " ' Robert Boulter is an English film , television and theatre actor . He had a guest @-@ starring role on the television series The Bill in 2000 . This was followed by a starring role in the play Herons written by Simon Stephens , which was performed in 2001 at the Royal Court Theatre . He had a guest role in the television series Judge John Deed in 2002 . In 2004 Boulter landed a role as \" Craig \" in the episode \" Teddy \\'s Story \" of the television series The Long Firm ; he starred alongside actors Mark Strong and Derek Jacobi . He was cast in the 2005 theatre productions of the Philip Ridley play Mercury Fur , which was performed at the Drum Theatre in Plymouth and the Menier Chocolate Factory in London . He was directed by John Tiffany and starred alongside Ben Whishaw , Shane Zaza , Harry Kent , Fraser Ayres , Sophie Stanton and Dominic Hall . \\n',\n",
              " ' In 2006 , Boulter starred alongside Whishaw in the play Citizenship written by Mark Ravenhill . He appeared on a 2006 episode of the television series , Doctors , followed by a role in the 2007 theatre production of How to Curse directed by Josie Rourke . How to Curse was performed at Bush Theatre in the London Borough of Hammersmith and Fulham . Boulter starred in two films in 2008 , Daylight Robbery by filmmaker Paris Leonti , and Donkey Punch directed by Olly Blackburn . In May 2008 , Boulter made a guest appearance on a two @-@ part episode arc of the television series Waking the Dead , followed by an appearance on the television series Survivors in November 2008 . He had a recurring role in ten episodes of the television series Casualty in 2010 , as \" Kieron Fletcher \" . Boulter starred in the 2011 film Mercenaries directed by Paris Leonti . \\n',\n",
              " '',\n",
              " ' = = Career = = \\n',\n",
              " '',\n",
              " '',\n",
              " ' = = = 2000 – 2005 = = = \\n']"
            ]
          }
        }
      ],
      "source": [
        "from datasets import load_dataset\n",
        "ds = load_dataset(\"Salesforce/wikitext\", \"wikitext-2-raw-v1\")\n",
        "ds[\"test\"][\"text\"][:10]"
      ],
      "id": "2e95a7e3-e1fb-4aa3-a386-50aab4bffd6f"
    },
    {
      "cell_type": "markdown",
      "metadata": {},
      "source": [
        "We can identify the split between articles by looking out for the\n",
        "article headings. In this dataset:  \n",
        "- Headers have the format: `\" = <HEADING> = \\n\"`  \n",
        "- Subheadings have the format: `\" = = <SUBHEADING> = = \\n\"`  \n",
        "- Subsubheadings have the format: `\" = = = <SUBSUBHEADING> = = = \\n\"`"
      ],
      "id": "b08a6bb7-59cf-4cb8-91ab-e522951f9d83"
    },
    {
      "cell_type": "code",
      "execution_count": 29,
      "metadata": {},
      "outputs": [],
      "source": [
        "articles = []\n",
        "\n",
        "# Drop the 0th line as its empty\n",
        "for line in ds[\"test\"][\"text\"][1:]:\n",
        "    # Identify headings, but exclude subheadings and subsubheadings\n",
        "    if line[:3] == \" = \" and line[3] != \"=\":\n",
        "        articles.append(line)\n",
        "    else:\n",
        "        articles[-1] += line"
      ],
      "id": "558de6b9-26dc-4395-91ec-bd58780b795f"
    },
    {
      "cell_type": "code",
      "execution_count": 30,
      "metadata": {},
      "outputs": [
        {
          "output_type": "stream",
          "name": "stdout",
          "text": [
            " = Robert Boulter = \n",
            " Robert Boulter is an English film , television and theatre actor . He had a gu\n",
            " = Du Fu = \n",
            " Du Fu ( Wade – Giles : Tu Fu ; Chinese : 杜甫 ; 712 – 770 ) was a prominent Chinese poet \n",
            " = Kiss You ( One Direction song ) = \n",
            " \" Kiss You \" is a song recorded by English @-@ Irish boy band\n",
            " = Ise @-@ class battleship = \n",
            " The Ise @-@ class battleships ( 伊勢型戦艦 , Ise @-@ gata senkan ) were a\n",
            " = Dick Rifenburg = \n",
            " Richard Gale \" Dick \" Rifenburg ( August 21 , 1926 – December 5 , 1994 ) was a"
          ]
        }
      ],
      "source": [
        "# Check the first 100 characters of the first 5 articles to make sure we split the dataset correctly\n",
        "for article in articles[:5]:\n",
        "    print(article[:100])"
      ],
      "id": "c5bd0a24-dca3-4efc-b0e8-0b1570d28695"
    },
    {
      "cell_type": "markdown",
      "metadata": {},
      "source": [
        "## Passing the articles through to Ollama\n",
        "\n",
        "To use the ollama library we need to start an ollama server in the\n",
        "background inside of our SLURM job. We can do this by running the\n",
        "commands below in a **Jupyter Lab terminal**. This is not the same as\n",
        "launching a terminal app as that will launch a new SLURM job instead.\n",
        "Instead, select ‘Terminal’ from the Launcher after clicking on the ‘+’\n",
        "button in the top left corner of your Jupyter Lab application.\n",
        "\n",
        "We also need to point Ollama towards our shared model repository in\n",
        "order to be able to import the models that we’ve downloaded for you.\n",
        "Alternatively if you’d like to experiment with models on your own, feel\n",
        "free to modify that path to a directory that you control. Note that LLMs\n",
        "are big and they will count towards your disk quota.\n",
        "\n",
        "`export OLLAMA_MODELS=\"/apps/ollama/models/\"`  \n",
        "`/apps/ollama/ollama serve`"
      ],
      "id": "db2da471-4a18-4b51-be44-ce50fb980e27"
    },
    {
      "cell_type": "code",
      "execution_count": 31,
      "metadata": {},
      "outputs": [
        {
          "output_type": "stream",
          "name": "stdout",
          "text": [
            "{'model': 'llama3', 'created_at': '2024-08-14T05:34:36.062060907Z', 'message': {'role': 'assistant', 'content': \"What a great question!\\n\\nThe sky appears blue because of a phenomenon called Rayleigh scattering. This is when short (blue) wavelengths of light are scattered more than longer (red) wavelengths by tiny molecules of gases in the atmosphere, such as nitrogen and oxygen.\\n\\nHere's what happens:\\n\\n1. When sunlight enters Earth's atmosphere, it encounters tiny molecules of gases like nitrogen (N2) and oxygen (O2).\\n2. These molecules scatter the light in all directions.\\n3. The shorter blue wavelengths are scattered more than longer red wavelengths because they have a higher energy and interact more strongly with the gas molecules.\\n4. As a result, our eyes perceive the scattered blue light as a blue color, making the sky appear blue.\\n\\nThis scattering effect is most pronounced when the sun is overhead (at an angle of about 90 degrees), which is why the sky often appears more vibrant blue during midday. As the sun sets or rises lower in the sky, the light has to travel longer distances through the atmosphere, which means more of the shorter wavelengths are scattered away, making the sky appear more orange or red due to the dominance of the longer wavelengths.\\n\\nSo, to summarize: the sky appears blue because of the scattering of short blue wavelengths by tiny gas molecules in the atmosphere!\\n\\n(P.S. There are other factors that can affect the apparent color of the sky, such as dust particles, water vapor, and pollution. But Rayleigh scattering is the primary reason for the sky's blue hue.)\"}, 'done_reason': 'stop', 'done': True, 'total_duration': 6096306797, 'load_duration': 2782395, 'prompt_eval_count': 11, 'prompt_eval_duration': 234876000, 'eval_count': 301, 'eval_duration': 5719801000}"
          ]
        }
      ],
      "source": [
        "import ollama\n",
        "response = ollama.chat(model='llama3', messages=[\n",
        "  {\n",
        "    'role': 'user',\n",
        "    'content': 'Why is the sky blue?',\n",
        "  },\n",
        "])\n",
        "print(response)"
      ],
      "id": "86be04a0-0c58-4454-b447-80751d75375f"
    },
    {
      "cell_type": "markdown",
      "metadata": {},
      "source": [
        "We can then formulate our request to the LLM using the articles from our\n",
        "dataset and ask for it’s summary"
      ],
      "id": "145e35de-08be-4316-8b6c-23567847293d"
    },
    {
      "cell_type": "code",
      "execution_count": 32,
      "metadata": {},
      "outputs": [
        {
          "output_type": "stream",
          "name": "stdout",
          "text": [
            "The article is about the career of Robert Boulter, an English actor. Here's a summary:\n",
            "\n",
            "**Early Career (2000-2005)**\n",
            "\n",
            "* Guest starred in TV series \"The Bill\" (2000)\n",
            "* Starred in play \"Herons\" at Royal Court Theatre (2001)\n",
            "* Appeared in TV series \"Judge John Deed\" (2002) and \"The Bill\" (2003)\n",
            "* Had recurring role on \"The Bill\" (2003)\n",
            "\n",
            "**Middle Career (2006-Present)**\n",
            "\n",
            "* Starred in play \"Citizenship\" at National Theatre (2006)\n",
            "* Appeared in TV series \"Doctors\" (2006)\n",
            "* Starred in play \"How to Curse\" at Bush Theatre (2007)\n",
            "* Starred in two films: \"Daylight Robbery\" and \"Donkey Punch\" (2008)\n",
            "* Guest starred on TV series \"Waking the Dead\" (2008) and \"Survivors\" (2008)\n",
            "* Had recurring role on TV series \"Casualty\" (2010)\n",
            "* Starred in film \"Mercenaries\" (2011)\n",
            "\n",
            "**Theatre Credits**\n",
            "\n",
            "* \"Mercury Fur\" at Drum Theatre and Menier Chocolate Factory (2005)\n",
            "* \"How to Curse\" at Bush Theatre (2007)\n",
            "\n",
            "Overall, Robert Boulter has had a diverse career, appearing in TV shows, films, and theatre productions. He has worked with various directors and actors, including Ben Whishaw, Derek Jacobi, and Josie Rourke."
          ]
        }
      ],
      "source": [
        "response = ollama.chat(model='llama3', messages=[\n",
        "  {\n",
        "    'role': 'user',\n",
        "    'content': \"Please summarise this article:\\n\\n\\n\" + articles[0],\n",
        "  },\n",
        "])\n",
        "print(response['message']['content'])"
      ],
      "id": "f65f9817-e6bb-466a-bcd1-6f7d8211f042"
    },
    {
      "cell_type": "code",
      "execution_count": null,
      "metadata": {},
      "outputs": [],
      "source": [
        "# And finally we can automate \n",
        "responses = []\n",
        "for article in articles:\n",
        "    response = ollama.chat(model='llama3', messages=[\n",
        "        {\n",
        "            'role': 'user',\n",
        "            'content': \"Please summarise this article:\\n\\n\\n\" + article,\n",
        "        },\n",
        "    ])\n",
        "    responses.append(response['message']['content'])"
      ],
      "id": "233e4c29-505b-42ab-99be-448e47142513"
    },
    {
      "cell_type": "code",
      "execution_count": 36,
      "metadata": {},
      "outputs": [
        {
          "output_type": "stream",
          "name": "stdout",
          "text": [
            "The article is a biography of English actor Robert Boulter. Here's a summary:\n",
            "\n",
            "**Early Career (2000-2005)**\n",
            "\n",
            "* Guest star role on TV series \"The Bill\" in 2000\n",
            "* Starred in play \"Herons\" by Simon Stephens at Royal Court Theatre in 2001\n",
            "* Appeared in TV series \"Judge John Deed\" in 2002 as \"Addem Armitage\"\n",
            "* Had recurring role on TV series \"The Bill\" in 2003 and 2004\n",
            "\n",
            "**Mid-Career (2006-2010)**\n",
            "\n",
            "* Starred in play \"Citizenship\" by Mark Ravenhill at National Theatre in 2006\n",
            "* Appeared in TV series \"Doctors\" in 2006 as \"Jason Tyler\"\n",
            "* Starred in play \"How to Curse\" directed by Josie Rourke at Bush Theatre in 2007\n",
            "* Starred in two films: \"Daylight Robbery\" (2008) and \"Donkey Punch\" (2008)\n",
            "* Guest-starred on TV series \"Waking the Dead\" in 2008 as \"Jimmy Dearden\"\n",
            "* Appeared on TV series \"Survivors\" in 2008 as \"Neil\"\n",
            "\n",
            "**Recent Career (2010-Present)**\n",
            "\n",
            "* Had recurring role on TV series \"Casualty\" in 2010 as \"Kieron Fletcher\", playing an emergency physician\n",
            "* Starred in film \"Mercenaries\" directed by Paris Leonti in 2011\n",
            "\n",
            "Overall, the article provides a chronological overview of Robert Boulter's acting career, highlighting his roles in various films, television shows, and theatre productions.\n",
            "======================\n",
            "The article discusses the impact and influence of ancient Chinese poet Du Fu (712-770 CE) on Japanese literature and poets. Du Fu's work was highly regarded in Japan, particularly during the Muromachi period (1336-1573 CE). His poetry had a profound impact on Japanese haiku master Matsuo Bashō (1644-1694 CE), who often cited Du Fu's poems in his own works.\n",
            "\n",
            "In Japan, Du Fu's poetry was widely studied and admired. During the Edo period (1603-1868 CE), a commentary on Du Fu's poetry by Shào Chuán of the Ming Dynasty gained popularity among Confucian scholars and townspeople. This commentary established Du Fu as the greatest poet in history.\n",
            "\n",
            "The article also touches on the challenges of translating Du Fu's work into English. Various translators have approached this task with different styles, ranging from free translations to literal translations that preserve the original poetic forms. Some translators, like Kenneth Rexroth, have taken a more flexible approach, while others, like Burton Watson, have prioritized conveying the formal constraints and allusions of Du Fu's poetry.\n",
            "\n",
            "Overall, the article highlights the enduring influence of Du Fu on Japanese literature and poets, as well as the challenges and nuances involved in translating his work into English.\n",
            "======================\n",
            "The article is about the song \"Kiss You\" by One Direction. Here's a summary:\n",
            "\n",
            "**Critical Reception**: The song was well-received by music critics, who praised its production quality and catchy melody.\n",
            "\n",
            "**Commercial Performance**: The single debuted at number 24 on the Irish Singles Chart and peaked at number 7. It also reached the top 10 in the UK Singles Chart and the US Billboard Hot 100. The song was certified gold by the RIAA and platinum by the ARIA (Australian Recording Industry Association) and RIANZ (Recording Industry Association of New Zealand).\n",
            "\n",
            "**Music Video**: The music video, directed by Vaughan Arnell, features the band shooting different scenes via a green screen, dressed as sailors, surfers, skiers, and jailers. It was characterized as \"bigger than anything we've done before\" and \"a lot of fun\" by the band members.\n",
            "\n",
            "**Live Performances**: One Direction performed the song on televised programs, including The Today Show and The X Factor UK and USA. They also included it in their set list during their Take Me Home Tour (2013), Where We Are Tour (2014), and On the Road Again Tour (2015).\n",
            "\n",
            "**Track Listing**: The CD single features \"Kiss You\" and \"Little Things\".\n",
            "\n",
            "**Credits and Personnel**: The song was written by Carl Falk, Kristoffer Fogelmark, Niall Horan, Savan Kotecha, Kristian Lundin, Albin Nedler, Shellback, and Rami Yacoub. It was produced by Carl Falk and Rami Yacoub.\n",
            "\n",
            "I hope that helps! Let me know if you have any further questions.\n",
            "======================\n",
            "The article describes the career of two Japanese battleships, Ise and Hyūga, during World War II. Here is a summary:\n",
            "\n",
            "* In May 1943, Ise was converted into a hybrid carrier from a battleship.\n",
            "* After completing sea trials, Ise was attached to the Imperial Japanese Naval Academy at Etajima and ferried troops and munitions to Truk in October.\n",
            "* In November, Ise began working up with Hyūga, which had also been converted into a carrier. Both ships joined the 2nd Battleship Division.\n",
            "* In May 1944, the sisters were transferred to Rear Admiral Matsuda Chiaki's reformed Fourth Carrier Division of the 3rd Fleet.\n",
            "\n",
            "The article then describes the Battle of Cape Engaño:\n",
            "\n",
            "* The Japanese plan was to use the surviving carriers, including Ise and Hyūga, to lure American carrier forces away from the invasion area.\n",
            "* On October 24, the sisters launched aircraft to attack American carriers. Although they inflicted no damage, they caused the Americans to search in the direction from which they had attacked.\n",
            "* The next day, the Americans found the Japanese carriers and launched multiple airstrikes. Ise claimed to have shot down five attacking dive bombers and was lightly damaged by near misses.\n",
            "* Hyūga was successfully attacked by an American submarine on October 25.\n",
            "\n",
            "After the battle, the sisters continued to serve in various roles:\n",
            "\n",
            "* In early November, their catapults were removed, and they loaded troops and munitions. They then sailed for Lingga Island and eventually became flagship of the 5th Fleet.\n",
            "* In December, Hyūga became flagship of the fleet at Cam Ranh Bay.\n",
            "* In January 1945, the sisters sailed to Singapore and then to Lingga Island.\n",
            "\n",
            "The article concludes with a description of the final days of Ise and Hyūga:\n",
            "\n",
            "* After being struck off the Navy List in November, both ships were scrapped after the war.\n",
            "======================\n",
            "The article is about the life of Dick Rifenburg, an American football player and sportscaster. Here's a summary:\n",
            "\n",
            "* Rifenburg played football at the University of Michigan, leading the team to consecutive undefeated national championships in 1947 and 1948.\n",
            "* He was known for his practical jokes on the field and was a consensus All-American selection as a senior.\n",
            "* Despite being one of the greatest Wolverine players of the 1940s, Rifenburg did not finish among the top eight Heisman Trophy voters in 1948 due to perceived bias against Michigan teams.\n",
            "* After graduating from Michigan, Rifenburg was drafted by the Philadelphia Eagles and played for the Detroit Lions before retiring from professional football.\n",
            "* He went on to become a sportscaster, hosting a popular panel show called \"Let's Talk Sports\" and pioneering an early morning exercise program in Buffalo, New York.\n",
            "* Rifenburg worked at WBEN radio station for many years, hosting various programs and serving as the play-by-play announcer for Buffalo Bills games.\n",
            "* He also taught communications at Medaille College and sold ads for a local newspaper.\n",
            "* After 30 years with WBEN, Rifenburg's show was replaced, but he continued to work in broadcasting until his eventual retirement.\n",
            "* Rifenburg passed away in 1994, leaving behind a legacy as a pioneering figure in sports broadcasting. He was posthumously inducted into the Buffalo Broadcasters Hall of Fame in 2007.\n",
            "======================"
          ]
        }
      ],
      "source": [
        "# Print the first 5 summaries\n",
        "for response in responses[:5]:\n",
        "    print(response)\n",
        "    print(\"======================\")"
      ],
      "id": "8f6db7aa-3037-4c17-b641-6ef1b53c2b60"
    }
  ],
  "nbformat": 4,
  "nbformat_minor": 5,
  "metadata": {
    "kernelspec": {
      "name": "python3",
      "display_name": "Python 3",
      "language": "python"
    },
    "language_info": {
      "name": "python",
      "codemirror_mode": {
        "name": "ipython",
        "version": "3"
      },
      "file_extension": ".py",
      "mimetype": "text/x-python",
      "nbconvert_exporter": "python",
      "pygments_lexer": "ipython3",
      "version": "3.12.5"
    }
  }
}