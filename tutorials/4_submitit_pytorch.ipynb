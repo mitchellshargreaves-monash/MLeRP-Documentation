{
 "cells": [
  {
   "cell_type": "raw",
   "metadata": {
    "vscode": {
     "languageId": "raw"
    }
   },
   "source": [
    "---\n",
    "title: PyTorch and Submitit\n",
    "format:\n",
    "  html:\n",
    "    code-fold: false\n",
    "  ipynb: default\n",
    "execute:\n",
    "    freeze: true\n",
    "format-links: [ipynb]\n",
    "---"
   ]
  },
  {
   "cell_type": "markdown",
   "metadata": {},
   "source": [
    "### Defining models, datasets and functions"
   ]
  },
  {
   "cell_type": "markdown",
   "metadata": {},
   "source": [
    "If you're doing something relatively simple, Dask has integrations with [Scikit-Learn](https://ml.dask.org/joblib.html) and [XGBoost](https://ml.dask.org/xgboost.html). You can also pass PyTorch models into Scikit-Learn with [Skorch](https://ml.dask.org/pytorch.html) and TensorFlow models with [SciKeras](https://ml.dask.org/keras.html).\n",
    "\n",
    "But if you need to do something more complex, using SubmitIt to remotely execute code gives us the low level control to implement whatever bespoke algorithm we want and have it accelerated by remote GPUs."
   ]
  },
  {
   "cell_type": "markdown",
   "metadata": {},
   "source": [
    "In this example we're going to write our own PyTorch functions to train a custom model on the CIFAR dataset. While we could do this with Skorch, we hope that this example gives you some idea of how Dask can be flexible enough for any applications that you need.\n",
    "\n",
    "Content adapted from the [PyTorch CIFAR10 Tutorial](https://pytorch.org/tutorials/beginner/blitz/cifar10_tutorial.html)"
   ]
  },
  {
   "cell_type": "code",
   "execution_count": 1,
   "metadata": {},
   "outputs": [
    {
     "name": "stdout",
     "output_type": "stream",
     "text": [
      "Files already downloaded and verified\n",
      "Files already downloaded and verified\n"
     ]
    },
    {
     "name": "stderr",
     "output_type": "stream",
     "text": [
      "/apps/mambaforge/envs/dsks_2024.06/lib/python3.10/site-packages/torch/utils/data/dataloader.py:558: UserWarning: This DataLoader will create 16 worker processes in total. Our suggested max number of worker in current system is 8, which is smaller than what this DataLoader is going to create. Please be aware that excessive worker creation might get DataLoader running slow or even freeze, lower the worker number to avoid potential slowness/freeze if necessary.\n",
      "  warnings.warn(_create_warning_msg(\n"
     ]
    }
   ],
   "source": [
    "import torch\n",
    "import torchvision\n",
    "import torchvision.transforms as transforms\n",
    "import torch.multiprocessing as mp\n",
    "\n",
    "# Define data transformations\n",
    "transform = transforms.Compose([\n",
    "    transforms.ToTensor(),\n",
    "    transforms.Normalize((0.5, 0.5, 0.5), (0.5, 0.5, 0.5))\n",
    "    ])\n",
    "\n",
    "# Define dataset and dataloader\n",
    "batch_size = 1024\n",
    "trainset = torchvision.datasets.CIFAR10(root='./data', train=True,\n",
    "                                        download=True, transform=transform)\n",
    "validset = torchvision.datasets.CIFAR10(root='./data', train=False,\n",
    "                                        download=True, transform=transform)\n",
    "\n",
    "# Note that we need to set the multiprocessing context so that PyTorch doesn't get\n",
    "# PyTorch likes to use 'forking' while Dask uses 'spawn'\n",
    "trainloader = torch.utils.data.DataLoader(trainset, batch_size=batch_size,\n",
    "                                          shuffle=True, num_workers=16, multiprocessing_context=mp.get_context(\"fork\"))\n",
    "validloader = torch.utils.data.DataLoader(validset, batch_size=batch_size,\n",
    "                                          shuffle=True, num_workers=16, multiprocessing_context=mp.get_context(\"fork\"))\n"
   ]
  },
  {
   "cell_type": "markdown",
   "metadata": {},
   "source": [
    "Note that this cell may warn us that there is a mismatch between our requested resources and the number of worker processes. This is ok, as we have sized this `DataLoader` to match the Dask worker that we request later on."
   ]
  },
  {
   "cell_type": "code",
   "execution_count": 2,
   "metadata": {},
   "outputs": [],
   "source": [
    "import torch.nn as nn\n",
    "import torch.nn.functional as F\n",
    "\n",
    "# Define loss function\n",
    "criterion = nn.CrossEntropyLoss()\n",
    "\n",
    "# Define a simple conv net\n",
    "class Net(nn.Module):\n",
    "    def __init__(self):\n",
    "        super().__init__()\n",
    "        # Convolutional layers\n",
    "        self.conv1 = nn.Conv2d(3, 16, 3, stride=2, padding=1)\n",
    "        self.conv2 = nn.Conv2d(16, 16, 3, stride=1, padding=1)\n",
    "        self.conv3 = nn.Conv2d(16, 32, 3, stride=2, padding=1)\n",
    "        self.conv4 = nn.Conv2d(32, 32, 3, stride=1, padding=1)\n",
    "        self.conv5 = nn.Conv2d(32, 64, 3, stride=2, padding=1)\n",
    "        self.conv6 = nn.Conv2d(64, 64, 3, stride=1, padding=1)\n",
    "        \n",
    "        # Fully connected layers\n",
    "        self.fc1 = nn.Linear(4 * 4 * 64, 4 * 64)\n",
    "        self.fc2 = nn.Linear(4 * 64, 64)\n",
    "        self.fc3 = nn.Linear(64, 10)\n",
    "\n",
    "    def forward(self, x):\n",
    "        # Pass through convolution layers\n",
    "        x = F.relu(self.conv1(x))\n",
    "        x = F.relu(self.conv2(x))\n",
    "        x = F.relu(self.conv3(x))\n",
    "        x = F.relu(self.conv4(x))\n",
    "        x = F.relu(self.conv5(x))\n",
    "        x = F.relu(self.conv6(x))\n",
    "\n",
    "        # Flatten all dimensions except batch\n",
    "        x = torch.flatten(x, 1)  \n",
    "\n",
    "        # Pass through fully connected layers\n",
    "        x = F.relu(self.fc1(x))\n",
    "        x = F.relu(self.fc2(x))\n",
    "        x = self.fc3(x)\n",
    "        return x"
   ]
  },
  {
   "cell_type": "markdown",
   "metadata": {},
   "source": [
    "This train function will load any saved state for the provided model, then train for a number of epochs. When its done it will then save the state and return the average loss of the last epoch."
   ]
  },
  {
   "cell_type": "code",
   "execution_count": 3,
   "metadata": {},
   "outputs": [],
   "source": [
    "import torch.optim as optim\n",
    "from tqdm.notebook import tqdm\n",
    "\n",
    "\n",
    "# loader: train dataloader\n",
    "# arch: model archetechture for training\n",
    "# path: model path for load and save\n",
    "# load: whether to load model from path\n",
    "# save: whether to save model to path\n",
    "# test: only run one batch for testing\n",
    "# error: throw an assertion error\n",
    "# return: average loss of epoch or loss of one batch if testing\n",
    "def train(loader, arch=Net, path=\"./model\", epochs=1, load=False, save=True, test=False):\n",
    "    model = arch()\n",
    "    optimizer = optim.Adam(model.parameters(), lr=3e-4)\n",
    "    device = \"cuda\" if torch.cuda.is_available() and not test else \"cpu\"\n",
    "    \n",
    "    # Load state from disk so that we can split up the job\n",
    "    if load: \n",
    "        state = torch.load(path, map_location=\"cpu\")\n",
    "        model.load_state_dict(state[\"model\"])\n",
    "        model.to(device)\n",
    "        optimizer.load_state_dict(state[\"optimizer\"])\n",
    "    else:\n",
    "        model.to(device)\n",
    "    \n",
    "    # A typical PyTorch training loop\n",
    "    model.train()\n",
    "    for _ in range(epochs):\n",
    "        running_loss = 0\n",
    "        \n",
    "        for i, (inputs, labels) in enumerate(loader):\n",
    "            # put the inputs on the device\n",
    "            inputs, labels = inputs.to(device), labels.to(device)\n",
    "\n",
    "            # zero the parameter gradients\n",
    "            optimizer.zero_grad()\n",
    "\n",
    "            # forward + backward + optimize\n",
    "            outputs = model(inputs)\n",
    "            loss = criterion(outputs, labels)\n",
    "            loss.backward()\n",
    "            optimizer.step()\n",
    "            running_loss += loss.detach().item()\n",
    "    \n",
    "    # Save model after each epoch\n",
    "    if save:\n",
    "        torch.save({\n",
    "            \"model\": model.state_dict(),\n",
    "            \"optimizer\": optimizer.state_dict()\n",
    "            }, path)\n",
    "    \n",
    "    return running_loss / len(loader) if not test else loss.detach().item()"
   ]
  },
  {
   "cell_type": "markdown",
   "metadata": {},
   "source": [
    "This valid function will load the state of the model we've defined, then calculate the average loss and accuracy over the dataset.\n"
   ]
  },
  {
   "cell_type": "code",
   "execution_count": 4,
   "metadata": {},
   "outputs": [],
   "source": [
    "# loader: train dataloader\n",
    "# arch: model archetechture for validating\n",
    "# path: model path for load and save\n",
    "# return: average loss and accuracy of epoch\n",
    "def valid(loader, arch=Net, path=\"./model\"):\n",
    "    # Initialise device\n",
    "    model = arch()\n",
    "    device = \"cuda\" if torch.cuda.is_available() else \"cpu\"\n",
    "\n",
    "    # Load state from disk so that we can split up the job\n",
    "    state = torch.load(path, map_location=\"cpu\")\n",
    "    model.load_state_dict(state[\"model\"])\n",
    "    model.to(device)\n",
    "    model.eval()\n",
    "    \n",
    "    # A typical PyTorch validation loop\n",
    "    running_loss = 0\n",
    "    correct = 0\n",
    "    total = 0\n",
    "    with torch.no_grad():\n",
    "        for i, (inputs, labels) in enumerate(loader):\n",
    "            # put the inputs on the device\n",
    "            inputs, labels = inputs.to(device), labels.to(device)\n",
    "\n",
    "            # forward\n",
    "            outputs = model(inputs)\n",
    "            \n",
    "            # loss\n",
    "            loss = criterion(outputs, labels)\n",
    "            running_loss += loss.detach().item()\n",
    "            \n",
    "            # accuracy\n",
    "            _, predicted = torch.max(outputs.data, 1)\n",
    "            total += labels.size(0)\n",
    "            correct += (predicted == labels).sum().item()\n",
    "\n",
    "    return running_loss / len(loader), correct / total\n"
   ]
  },
  {
   "cell_type": "markdown",
   "metadata": {},
   "source": [
    "### Testing locally"
   ]
  },
  {
   "cell_type": "code",
   "execution_count": 5,
   "metadata": {},
   "outputs": [
    {
     "data": {
      "text/plain": [
       "2.065371513366699"
      ]
     },
     "execution_count": 5,
     "metadata": {},
     "output_type": "execute_result"
    }
   ],
   "source": [
    "train(trainloader, test=True)"
   ]
  },
  {
   "cell_type": "markdown",
   "metadata": {},
   "source": [
    "### Training with a `SubmitIt`"
   ]
  },
  {
   "cell_type": "code",
   "execution_count": 6,
   "metadata": {},
   "outputs": [],
   "source": [
    "import submitit\n",
    "\n",
    "# Define where we'd like submitit to place our logs\n",
    "executor = submitit.AutoExecutor(folder='~/submitit_logs')\n",
    "\n",
    "# Define the parameters of our slurm job\n",
    "# Just like Dasks' job_extra_directives, additional_parameters allows us to specify things that submitit doesn't support directly\n",
    "executor.update_parameters(timeout_min=30, mem_gb=128, cpus_per_task=16, slurm_partition=\"BigCats\", slurm_additional_parameters={\"gres\": \"gpu:2g.10gb:1\"})"
   ]
  },
  {
   "cell_type": "code",
   "execution_count": 7,
   "metadata": {},
   "outputs": [
    {
     "data": {
      "text/plain": [
       "2.058852434158325"
      ]
     },
     "execution_count": 7,
     "metadata": {},
     "output_type": "execute_result"
    }
   ],
   "source": [
    "# First test offloading before we run the full training loop\n",
    "executor.submit(train, trainloader, test=True).result()"
   ]
  },
  {
   "cell_type": "markdown",
   "metadata": {},
   "source": [
    "Finally we can bring everything together and run our training loop."
   ]
  },
  {
   "cell_type": "code",
   "execution_count": 8,
   "metadata": {},
   "outputs": [
    {
     "data": {
      "application/vnd.jupyter.widget-view+json": {
       "model_id": "e1061bb29ae148108ff86fe545bfedcb",
       "version_major": 2,
       "version_minor": 0
      },
      "text/plain": [
       "  0%|          | 0/5 [00:00<?, ?it/s]"
      ]
     },
     "metadata": {},
     "output_type": "display_data"
    },
    {
     "name": "stdout",
     "output_type": "stream",
     "text": [
      "epoch: 0, train_loss:  2.273, valid_loss:  2.119, accuracy:  0.224\n",
      "epoch: 1, train_loss:  1.998, valid_loss:  1.928, accuracy:  0.294\n",
      "epoch: 2, train_loss:  1.872, valid_loss:  1.807, accuracy:  0.333\n",
      "epoch: 3, train_loss:  1.770, valid_loss:  1.720, accuracy:  0.365\n",
      "epoch: 4, train_loss:  1.702, valid_loss:  1.654, accuracy:  0.385\n"
     ]
    }
   ],
   "source": [
    "# Run the training loop\n",
    "epochs = 5\n",
    "with tqdm(total=(epochs)) as pbar:\n",
    "    for epoch in range(epochs):\n",
    "        train_loss = executor.submit(train, trainloader, load=(epoch > 0)).result()\n",
    "        valid_loss, accuracy = executor.submit(valid, validloader).result()\n",
    "        pbar.update()\n",
    "        pbar.set_postfix(loss=train_loss)\n",
    "        print( f\"epoch: {epoch}, train_loss: {train_loss : .3f}, valid_loss: {valid_loss : .3f}, accuracy: {accuracy : .3f}\")"
   ]
  },
  {
   "cell_type": "markdown",
   "metadata": {},
   "source": [
    "Note how in this example we offload every epoch as its own function. If your model or dataset is large, you may find it more efficient to submit multiple epochs to be trained per batch. In doing so, consider specifying larger GPU sizes and using the lion qos if the 30 minute joblength for Cheetah is too short."
   ]
  },
  {
   "cell_type": "markdown",
   "metadata": {},
   "source": [
    "### Measuring the offloading overhead"
   ]
  },
  {
   "cell_type": "markdown",
   "metadata": {},
   "source": [
    "Offloading tasks doesn't come for free, there is an initial cost associated with sending the data to a remote device. Let's compare the time it would take to train a Resnet18 on CIFAR for a range of epochs comparing a local GPU, a remote GPU using Dask and a remote GPU using Dask with a scattered dataset. For this expriment we will not bother saving the weights afterwards since this should be relatively constant between methods.\n",
    "\n",
    "Note that this test was run directly on the compute node to gain direct access to the GPUs to measure overheads. You will only be able to mimic our results for the final graph if you're running with an inbuilt GPU (Tabby service) since it compares reserved GPUs with Dask driven GPU jobs. Running this cell in a lion service will likely freeze the notebook since you'd have no accelleration."
   ]
  },
  {
   "cell_type": "code",
   "execution_count": null,
   "metadata": {},
   "outputs": [],
   "source": [
    "from torchvision.models import resnet18\n",
    "from time import time\n",
    "\n",
    "# Store times in arrays\n",
    "local = []\n",
    "remote = []\n",
    "scatter = []\n",
    "\n",
    "# Test some number of epochs\n",
    "epoch_list = [1, 2, 3, 5, 10]\n",
    "with tqdm(total=(len(epoch_list) * 3)) as pbar:\n",
    "    for num_epochs in epoch_list:\n",
    "        \n",
    "        # Local GPU\n",
    "        start = time()\n",
    "        train(trainloader, arch=resnet18, epochs=(num_epochs + 1), save=False)\n",
    "        local.append(time() - start)\n",
    "        pbar.update()\n",
    "        \n",
    "        # Remote GPU\n",
    "        start = time()\n",
    "        client.submit(train, trainloader, arch=resnet18, epochs=(num_epochs + 1), save=False).result()\n",
    "        remote.append(time() - start)\n",
    "        pbar.update()\n",
    "        \n",
    "        # Remote GPU with scatter\n",
    "        start = time()\n",
    "        trainloader_future = client.scatter(trainloader)\n",
    "        client.submit(train, trainloader_future, arch=resnet18, epochs=(num_epochs + 1), save=False).result()\n",
    "        scatter.append(time() - start)\n",
    "        pbar.update()\n"
   ]
  },
  {
   "cell_type": "code",
   "execution_count": null,
   "metadata": {},
   "outputs": [
    {
     "data": {
      "image/png": "[encoded data removed]",
      "text/plain": [
       "<Figure size 640x480 with 1 Axes>"
      ]
     },
     "metadata": {},
     "output_type": "display_data"
    }
   ],
   "source": [
    "import matplotlib.pyplot as plt\n",
    "from itertools import chain\n",
    "\n",
    "data = list(chain(*zip(local, remote, scatter)))\n",
    "columns = []\n",
    "for num_epochs in epoch_list:\n",
    "    for test in [\"local\", \"remote\", \"scatter\"]:\n",
    "        columns.append(test + \" \" + str(num_epochs))\n",
    "\n",
    "plt.bar(range(len(data)), data, tick_label=columns)\n",
    "plt.xticks(rotation=90)\n",
    "plt.xlabel(\"Experiment\")\n",
    "plt.ylabel(\"Seconds\")\n",
    "plt.title(\"Runtime comparison for local, remote and scatter\")\n",
    "plt.show()"
   ]
  },
  {
   "cell_type": "markdown",
   "metadata": {},
   "source": [
    "From this experiment we can see that the cost associated with running code remotely is small, and the impact decreases with the size of the function that we submit. It also shows that it always makes sense to scatter large objects before computing, even for small jobs."
   ]
  },
  {
   "cell_type": "code",
   "execution_count": null,
   "metadata": {},
   "outputs": [],
   "source": [
    "client.shutdown()"
   ]
  }
 ],
 "metadata": {
  "kernelspec": {
   "display_name": "Python 3 (ipykernel)",
   "language": "python",
   "name": "python3"
  },
  "language_info": {
   "codemirror_mode": {
    "name": "ipython",
    "version": 3
   },
   "file_extension": ".py",
   "mimetype": "text/x-python",
   "name": "python",
   "nbconvert_exporter": "python",
   "pygments_lexer": "ipython3",
   "version": "3.10.14"
  },
  "vscode": {
   "interpreter": {
    "hash": "db096b8404a4f1f3e1df0cc89f001e138448327417ef835d10f5a76aa612f160"
   }
  }
 },
 "nbformat": 4,
 "nbformat_minor": 4
}
