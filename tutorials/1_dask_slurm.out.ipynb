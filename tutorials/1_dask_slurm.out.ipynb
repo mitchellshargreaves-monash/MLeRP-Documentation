{
  "cells": [
    {
      "cell_type": "markdown",
      "metadata": {},
      "source": [
        "# Dask SLURMClusters\n",
        "\n",
        "The MLeRP notebook environment uses Dask SLURMClusters to create a\n",
        "middle ground that has the interactivity of a notebook backed by the\n",
        "power of a GPU Cluster. This notebook shows how you can use the lion\n",
        "service to use a CPU based notebook session for your basic analysis and\n",
        "code development. Then, when you’re ready to run tests you will use Dask\n",
        "to submit your python functions to the SLURM queue.\n",
        "\n",
        "This enables:\n",
        "\n",
        "-   Flexibility to experiment with your dataset interactively\n",
        "-   Ability to change compute requirements such as RAM, size of GPU,\n",
        "    number of processes and so on… without ever leaving the notebook\n",
        "    environment\n",
        "-   Elastic scaling of compute\n",
        "-   Efficient utilisation of the hardware\n",
        "-   Releasing of resources when not in use"
      ],
      "id": "8b44e807-0c28-4561-945d-2a52f7e4eb0c"
    },
    {
      "cell_type": "code",
      "execution_count": 1,
      "metadata": {},
      "outputs": [],
      "source": [
        "from dask_jobqueue import SLURMCluster\n",
        "from distributed import Client, LocalCluster\n",
        "import dask\n",
        "\n",
        "# Point Dask to the SLURM to use as it's back end\n",
        "cluster = SLURMCluster(\n",
        "    memory=\"64g\", processes=1, cores=8\n",
        ")\n",
        "\n",
        "# Scale out to 4 nodes\n",
        "num_nodes = 4\n",
        "cluster.scale(num_nodes)\n",
        "client = Client(cluster)"
      ],
      "id": "b8cf1ea3-8332-4f8d-901f-df1f7c24ee1a"
    },
    {
      "cell_type": "markdown",
      "metadata": {},
      "source": [
        "Dask will now spin our jobs up in anticipation for work to the scale\n",
        "that you specify.\n",
        "\n",
        "You can check in on your jobs like you would with any other SLURM job\n",
        "with `squeue`."
      ],
      "id": "9a649fc7-b7a9-401e-9b28-67c75a133569"
    },
    {
      "cell_type": "code",
      "execution_count": 2,
      "metadata": {},
      "outputs": [
        {
          "output_type": "stream",
          "name": "stdout",
          "text": [
            "             JOBID PARTITION     NAME     USER ST       TIME  NODES NODELIST(REASON)\n",
            "               933   BigCats dask-wor mhar0048 PD       0:00      1 (None)\n",
            "               932   BigCats dask-wor mhar0048 PD       0:00      1 (None)\n",
            "               931   BigCats dask-wor mhar0048 PD       0:00      1 (None)\n",
            "               930   BigCats dask-wor mhar0048 PD       0:00      1 (None)\n",
            "               919   BigCats Jupyter  ramachap  R      51:44      1 mlerp-monash-node00\n",
            "               920   BigCats Jupyter  ramachap  R      47:22      1 mlerp-monash-node00\n",
            "               916   BigCats Jupyter    charla  R    5:02:19      1 mlerp-monash-node00"
          ]
        }
      ],
      "source": [
        "!squeue"
      ],
      "id": "3c651163-603b-4e2a-b897-f2b7749e906c"
    },
    {
      "cell_type": "markdown",
      "metadata": {},
      "source": [
        "You can modify the output of `squeue` to work for you by passing in\n",
        "flags."
      ],
      "id": "75404639-5ece-4803-ba06-88f2b6a1d08b"
    },
    {
      "cell_type": "code",
      "execution_count": 3,
      "metadata": {},
      "outputs": [
        {
          "output_type": "stream",
          "name": "stdout",
          "text": [
            "PARTITIO            NAME    STATE       TIME    TIME_LEFT CPUS MIN_MEM NODELIST(REASON) QOS\n",
            " BigCats     dask-worker  RUNNING       0:00        30:00    8     60G mlerp-monash-node00 cheetah\n",
            " BigCats     dask-worker  RUNNING       0:00        30:00    8     60G mlerp-monash-node00 cheetah\n",
            " BigCats     dask-worker  RUNNING       0:00        30:00    8     60G mlerp-monash-node00 cheetah\n",
            " BigCats     dask-worker  RUNNING       0:00        30:00    8     60G mlerp-monash-node00 cheetah"
          ]
        }
      ],
      "source": [
        "!squeue --me --format \"%.8P %.15j %.8T %.10M %.12L %.4C %.7m %R %q\""
      ],
      "id": "7e48dd77-ec84-4d89-a828-5e9536d1769e"
    },
    {
      "cell_type": "markdown",
      "metadata": {},
      "source": [
        "Alternatively, we can use the adapt method, which will let us scale out\n",
        "as we need the compute… and scale back when we’re idle letting others\n",
        "use the cluster.\n",
        "\n",
        "We reccommend that you use the adapt method while you’re actively\n",
        "developing your code so that you don’t need to worry about cleaning up\n",
        "after yourself. The scale method can be used when you’re ready to run\n",
        "longer tests with higher utilisation."
      ],
      "id": "e4a6b700-cba8-4956-9917-d97200e48907"
    },
    {
      "cell_type": "code",
      "execution_count": 4,
      "metadata": {},
      "outputs": [
        {
          "output_type": "display_data",
          "metadata": {},
          "data": {
            "text/plain": [
              "<distributed.deploy.adaptive.Adaptive at 0x7fcf13681270>"
            ]
          }
        }
      ],
      "source": [
        "cluster.adapt(minimum=0, maximum=num_nodes)"
      ],
      "id": "0e587f1b-8625-4eb2-8bc9-c54a7351ea49"
    },
    {
      "cell_type": "code",
      "execution_count": 5,
      "metadata": {},
      "outputs": [
        {
          "output_type": "stream",
          "name": "stdout",
          "text": [
            "             JOBID PARTITION     NAME     USER ST       TIME  NODES NODELIST(REASON)\n",
            "               919   BigCats Jupyter  ramachap  R      51:44      1 mlerp-monash-node00\n",
            "               920   BigCats Jupyter  ramachap  R      47:22      1 mlerp-monash-node00\n",
            "               930   BigCats dask-wor mhar0048  R       0:00      1 mlerp-monash-node00\n",
            "               931   BigCats dask-wor mhar0048  R       0:00      1 mlerp-monash-node00\n",
            "               932   BigCats dask-wor mhar0048  R       0:00      1 mlerp-monash-node00\n",
            "               933   BigCats dask-wor mhar0048  R       0:00      1 mlerp-monash-node00\n",
            "               916   BigCats Jupyter    charla  R    5:02:19      1 mlerp-monash-node00"
          ]
        }
      ],
      "source": [
        "# You may need to run this cell a few times while waiting for Dask to clean up\n",
        "!squeue\n"
      ],
      "id": "4ae8abb7-a264-4091-9ab4-cecac85c8976"
    },
    {
      "cell_type": "markdown",
      "metadata": {},
      "source": [
        "Dask has a UI that will let you see how the tasks are being computed.\n",
        "You won’t be able to connect to this with your web browser but VSCode\n",
        "and Jupyter have extensions for you to connect to it.\n",
        "\n",
        "Use the loopback address: http://127.0.0.1:8787 (Adjust the port to the\n",
        "one listed when you make the client if needed)\n",
        "\n",
        "Now let’s define a dask array and perform some computation. Dask arrays\n",
        "are parallelised across your workers nodes so they can be greater than\n",
        "the size of one worker’s memory. Dask evaluates lazily, retuning\n",
        "‘futures’ which record the tasks needed to be completed in the compute\n",
        "graph. They can be computed later for its value.\n",
        "\n",
        "Dask also has parallelised implementations of dataframes and collections\n",
        "of objects (called bags). These are written to be as similar as possible\n",
        "to familiar libraries like numpy, pandas and pyspark. You can read more\n",
        "about [arrays](https://docs.dask.org/en/stable/array.html),\n",
        "[dataframes](https://docs.dask.org/en/stable/dataframe.html) and\n",
        "[bags](https://docs.dask.org/en/stable/bag.html) with Dask’s\n",
        "documentation."
      ],
      "id": "4f94b669-ce9f-42ac-9ded-e9950ce2f219"
    },
    {
      "cell_type": "code",
      "execution_count": 6,
      "metadata": {},
      "outputs": [
        {
          "output_type": "display_data",
          "metadata": {},
          "data": {}
        }
      ],
      "source": [
        "import dask.array as da\n",
        "x = da.random.random((1000, 1000, 1000))\n",
        "x  # Note how the value of the array hasn't been computed yet\n"
      ],
      "id": "0285cf5d-187e-4557-bc80-788b4d0208af"
    },
    {
      "cell_type": "markdown",
      "metadata": {},
      "source": [
        "You can check squeue while this is running to see the jobs dynamically\n",
        "spinning up to perform the computation."
      ],
      "id": "ff0de095-ab69-424a-9501-1d6feb7449f6"
    },
    {
      "cell_type": "code",
      "execution_count": 7,
      "metadata": {},
      "outputs": [
        {
          "output_type": "display_data",
          "metadata": {},
          "data": {
            "text/plain": [
              "array([0.66750137, 0.25089681, 0.7443936 , 0.7159385 , 0.09395558,\n",
              "       0.86980697, 0.11161041, 0.28340384, 0.19653293, 0.69794351])"
            ]
          }
        }
      ],
      "source": [
        "x[0][0][:10].compute()\n"
      ],
      "id": "c18cb26d-1eed-43e7-9ef6-9729285737fb"
    },
    {
      "cell_type": "markdown",
      "metadata": {},
      "source": [
        "Finally, we can shut down the SLURMCluster now that we’re done with it."
      ],
      "id": "e2c6230e-3985-4f94-a3f3-b9be31aa6974"
    },
    {
      "cell_type": "code",
      "execution_count": 8,
      "metadata": {},
      "outputs": [
        {
          "output_type": "stream",
          "name": "stderr",
          "text": [
            "2023-11-23 05:05:33,925 - distributed.deploy.adaptive_core - INFO - Adaptive stop"
          ]
        }
      ],
      "source": [
        "# Shut down the cluster\n",
        "client.shutdown()\n"
      ],
      "id": "da1c9a11-d45b-48c7-b63d-ff719c5ea86e"
    }
  ],
  "nbformat": 4,
  "nbformat_minor": 5,
  "metadata": {
    "kernelspec": {
      "name": "python3",
      "display_name": "Python 3 (ipykernel)",
      "language": "python"
    },
    "language_info": {
      "name": "python",
      "codemirror_mode": {
        "name": "ipython",
        "version": "3"
      },
      "file_extension": ".py",
      "mimetype": "text/x-python",
      "nbconvert_exporter": "python",
      "pygments_lexer": "ipython3",
      "version": "3.10.8"
    },
    "vscode": {
      "interpreter": {
        "hash": "db096b8404a4f1f3e1df0cc89f001e138448327417ef835d10f5a76aa612f160"
      }
    }
  }
}