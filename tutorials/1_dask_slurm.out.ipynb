{
  "cells": [
    {
      "cell_type": "markdown",
      "metadata": {},
      "source": [
        "# Dask SLURMClusters\n",
        "\n",
        "The MLeRP notebook environment uses Dask SLURMClusters to create a\n",
        "middle ground that has the interactivity of a notebook backed by the\n",
        "power of a GPU Cluster. This notebook shows how you can use the lion\n",
        "service to use a CPU based notebook session for your basic analysis and\n",
        "code development. Then, when you’re ready to run tests you will use Dask\n",
        "to submit your python functions to the SLURM queue.\n",
        "\n",
        "This enables:\n",
        "\n",
        "-   Flexibility to experiment with your dataset interactively\n",
        "-   Ability to change compute requirements such as RAM, size of GPU,\n",
        "    number of processes and so on… without ever leaving the notebook\n",
        "    environment\n",
        "-   Elastic scaling of compute\n",
        "-   Efficient utilisation of the hardware\n",
        "-   Releasing of resources when not in use"
      ],
      "id": "23f1c463-c5ed-4976-bf3f-5014dfc68db7"
    },
    {
      "cell_type": "code",
      "execution_count": 1,
      "metadata": {},
      "outputs": [],
      "source": [
        "from dask_jobqueue import SLURMCluster\n",
        "from distributed import Client, LocalCluster\n",
        "import dask\n",
        "\n",
        "# Point Dask to the SLURM to use as it's back end\n",
        "cluster = SLURMCluster(\n",
        "    memory=\"64g\", processes=1, cores=8\n",
        ")\n",
        "\n",
        "# Scale out to 4 nodes\n",
        "num_nodes = 4\n",
        "cluster.scale(num_nodes)\n",
        "client = Client(cluster)"
      ],
      "id": "321c553a-df05-4489-aeea-7fd65b47bc60"
    },
    {
      "cell_type": "markdown",
      "metadata": {},
      "source": [
        "Dask will now spin our jobs up in anticipation for work to the scale\n",
        "that you specify.\n",
        "\n",
        "You can check in on your jobs like you would with any other SLURM job\n",
        "with `squeue`."
      ],
      "id": "ca00fdff-8847-4395-b136-029bb57f0e18"
    },
    {
      "cell_type": "code",
      "execution_count": 2,
      "metadata": {},
      "outputs": [
        {
          "output_type": "stream",
          "name": "stdout",
          "text": [
            "             JOBID PARTITION     NAME     USER ST       TIME  NODES NODELIST(REASON)\n",
            "               933   BigCats dask-wor mhar0048 PD       0:00      1 (None)\n",
            "               932   BigCats dask-wor mhar0048 PD       0:00      1 (None)\n",
            "               931   BigCats dask-wor mhar0048 PD       0:00      1 (None)\n",
            "               930   BigCats dask-wor mhar0048 PD       0:00      1 (None)\n",
            "               919   BigCats Jupyter  ramachap  R      51:44      1 mlerp-monash-node00\n",
            "               920   BigCats Jupyter  ramachap  R      47:22      1 mlerp-monash-node00\n",
            "               916   BigCats Jupyter    charla  R    5:02:19      1 mlerp-monash-node00"
          ]
        }
      ],
      "source": [
        "!squeue"
      ],
      "id": "be63a29b-24c4-4e2d-9366-01008606cd6d"
    },
    {
      "cell_type": "markdown",
      "metadata": {},
      "source": [
        "You can modify the output of `squeue` to work for you by passing in\n",
        "flags."
      ],
      "id": "1be2e59b-2ca6-4771-90f5-cf066960fb61"
    },
    {
      "cell_type": "code",
      "execution_count": 3,
      "metadata": {},
      "outputs": [
        {
          "output_type": "stream",
          "name": "stdout",
          "text": [
            "PARTITIO            NAME    STATE       TIME    TIME_LEFT CPUS MIN_MEM NODELIST(REASON) QOS\n",
            " BigCats     dask-worker  RUNNING       0:00        30:00    8     60G mlerp-monash-node00 cheetah\n",
            " BigCats     dask-worker  RUNNING       0:00        30:00    8     60G mlerp-monash-node00 cheetah\n",
            " BigCats     dask-worker  RUNNING       0:00        30:00    8     60G mlerp-monash-node00 cheetah\n",
            " BigCats     dask-worker  RUNNING       0:00        30:00    8     60G mlerp-monash-node00 cheetah"
          ]
        }
      ],
      "source": [
        "!squeue --me --format \"%.8P %.15j %.8T %.10M %.12L %.4C %.7m %R %q\""
      ],
      "id": "fb7c3747-7f74-44f2-a9d1-3ca1eec72a5d"
    },
    {
      "cell_type": "markdown",
      "metadata": {},
      "source": [
        "Alternatively, we can use the adapt method, which will let us scale out\n",
        "as we need the compute… and scale back when we’re idle letting others\n",
        "use the cluster.\n",
        "\n",
        "We reccommend that you use the adapt method while you’re actively\n",
        "developing your code so that you don’t need to worry about cleaning up\n",
        "after yourself. The scale method can be used when you’re ready to run\n",
        "longer tests with higher utilisation."
      ],
      "id": "d59bfdb3-5c17-42e8-8b77-29d479dfeb1f"
    },
    {
      "cell_type": "code",
      "execution_count": 4,
      "metadata": {},
      "outputs": [
        {
          "output_type": "display_data",
          "metadata": {},
          "data": {
            "text/plain": [
              "<distributed.deploy.adaptive.Adaptive at 0x7fcf13681270>"
            ]
          }
        }
      ],
      "source": [
        "cluster.adapt(minimum=0, maximum=num_nodes)"
      ],
      "id": "f89eb967-8971-458d-8db1-24b6885d8ecc"
    },
    {
      "cell_type": "code",
      "execution_count": 5,
      "metadata": {},
      "outputs": [
        {
          "output_type": "stream",
          "name": "stdout",
          "text": [
            "             JOBID PARTITION     NAME     USER ST       TIME  NODES NODELIST(REASON)\n",
            "               919   BigCats Jupyter  ramachap  R      51:44      1 mlerp-monash-node00\n",
            "               920   BigCats Jupyter  ramachap  R      47:22      1 mlerp-monash-node00\n",
            "               930   BigCats dask-wor mhar0048  R       0:00      1 mlerp-monash-node00\n",
            "               931   BigCats dask-wor mhar0048  R       0:00      1 mlerp-monash-node00\n",
            "               932   BigCats dask-wor mhar0048  R       0:00      1 mlerp-monash-node00\n",
            "               933   BigCats dask-wor mhar0048  R       0:00      1 mlerp-monash-node00\n",
            "               916   BigCats Jupyter    charla  R    5:02:19      1 mlerp-monash-node00"
          ]
        }
      ],
      "source": [
        "# You may need to run this cell a few times while waiting for Dask to clean up\n",
        "!squeue\n"
      ],
      "id": "d936fcc3-377f-428f-8387-133e67632356"
    },
    {
      "cell_type": "markdown",
      "metadata": {},
      "source": [
        "Dask has a UI that will let you see how the tasks are being computed.\n",
        "You won’t be able to connect to this with your web browser but VSCode\n",
        "and Jupyter have extensions for you to connect to it.\n",
        "\n",
        "Use the loopback address: http://127.0.0.1:8787 (Adjust the port to the\n",
        "one listed when you make the client if needed)\n",
        "\n",
        "Now let’s define a dask array and perform some computation. Dask arrays\n",
        "are parallelised across your workers nodes so they can be greater than\n",
        "the size of one worker’s memory. Dask evaluates lazily, retuning\n",
        "‘futures’ which record the tasks needed to be completed in the compute\n",
        "graph. They can be computed later for its value.\n",
        "\n",
        "Dask also has parallelised implementations of dataframes and collections\n",
        "of objects (called bags). These are written to be as similar as possible\n",
        "to familiar libraries like numpy, pandas and pyspark. You can read more\n",
        "about [arrays](https://docs.dask.org/en/stable/array.html),\n",
        "[dataframes](https://docs.dask.org/en/stable/dataframe.html) and\n",
        "[bags](https://docs.dask.org/en/stable/bag.html) with Dask’s\n",
        "documentation."
      ],
      "id": "7de0a776-b858-4823-a6db-567f5f3abf03"
    },
    {
      "cell_type": "code",
      "execution_count": 6,
      "metadata": {},
      "outputs": [
        {
          "output_type": "display_data",
          "metadata": {},
          "data": {}
        }
      ],
      "source": [
        "import dask.array as da\n",
        "x = da.random.random((1000, 1000, 1000))\n",
        "x  # Note how the value of the array hasn't been computed yet\n"
      ],
      "id": "fd2fc309-3aff-4397-b08c-9d7ba0d0489d"
    },
    {
      "cell_type": "markdown",
      "metadata": {},
      "source": [
        "You can check squeue while this is running to see the jobs dynamically\n",
        "spinning up to perform the computation."
      ],
      "id": "e535bd6c-840a-415d-ab5d-60b5efef5529"
    },
    {
      "cell_type": "code",
      "execution_count": 7,
      "metadata": {},
      "outputs": [
        {
          "output_type": "display_data",
          "metadata": {},
          "data": {
            "text/plain": [
              "array([0.66750137, 0.25089681, 0.7443936 , 0.7159385 , 0.09395558,\n",
              "       0.86980697, 0.11161041, 0.28340384, 0.19653293, 0.69794351])"
            ]
          }
        }
      ],
      "source": [
        "x[0][0][:10].compute()\n"
      ],
      "id": "445c0deb-dbb9-4045-b12a-fa1b0481552f"
    },
    {
      "cell_type": "markdown",
      "metadata": {},
      "source": [
        "Finally, we can shut down the SLURMCluster now that we’re done with it."
      ],
      "id": "2aa0a389-3932-438b-b74a-223fb6a82a77"
    },
    {
      "cell_type": "code",
      "execution_count": 8,
      "metadata": {},
      "outputs": [
        {
          "output_type": "stream",
          "name": "stderr",
          "text": [
            "2023-11-23 05:05:33,925 - distributed.deploy.adaptive_core - INFO - Adaptive stop"
          ]
        }
      ],
      "source": [
        "# Shut down the cluster\n",
        "client.shutdown()\n"
      ],
      "id": "e9567ef2-e21c-48e5-b4f6-3699de87557c"
    }
  ],
  "nbformat": 4,
  "nbformat_minor": 5,
  "metadata": {
    "kernelspec": {
      "name": "python3",
      "display_name": "Python 3 (ipykernel)",
      "language": "python"
    },
    "language_info": {
      "name": "python",
      "codemirror_mode": {
        "name": "ipython",
        "version": "3"
      },
      "file_extension": ".py",
      "mimetype": "text/x-python",
      "nbconvert_exporter": "python",
      "pygments_lexer": "ipython3",
      "version": "3.10.8"
    },
    "vscode": {
      "interpreter": {
        "hash": "db096b8404a4f1f3e1df0cc89f001e138448327417ef835d10f5a76aa612f160"
      }
    }
  }
}